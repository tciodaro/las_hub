{
 "cells": [
  {
   "cell_type": "code",
   "execution_count": 17,
   "metadata": {},
   "outputs": [],
   "source": [
    "import numpy as np\n",
    "import re\n",
    "import collections\n",
    "import pandas\n",
    "\n",
    "fname   = 'Crimes_-_2001_to_present.csv'\n",
    "\n",
    "datadir = './RawData/'\n",
    "savedir = './Data/'"
   ]
  },
  {
   "cell_type": "markdown",
   "metadata": {
    "collapsed": true
   },
   "source": [
    "# Load Data "
   ]
  },
  {
   "cell_type": "code",
   "execution_count": 18,
   "metadata": {},
   "outputs": [
    {
     "name": "stdout",
     "output_type": "stream",
     "text": [
      "['ï»¿ID,Case Number,Date,Block,IUCR,Primary Type,Description,Location Description,Arrest,Domestic,Beat,District,Ward,Community Area,FBI Code,X Coordinate,Y Coordinate,Year,Updated On,Latitude,Longitude,Location\\n', '8852526,HV525771,10/19/2012 01:00:00 PM,0000X E CONGRESS PKWY,0870,THEFT,POCKET-PICKING,OTHER,false,false,0113,001,2,32,06,1176730,1898080,2012,02/10/2018 03:50:01 PM,41.875679322,-87.62657476,(41.875679322, -87.62657476)\\n', '4376601,HL671319,10/13/2005 08:00:00 AM,007XX W MONROE ST,0820,THEFT,$500 AND UNDER,PARKING LOT/GARAGE(NON.RESID.),false,false,0111,001,2,28,06,1171735,1899804,2005,02/28/2018 03:56:25 PM,41.880521497,-87.644863603,(41.880521497, -87.644863603)\\n', '1775072,G592253,10/03/2001 01:30:00 AM,078XX S LAWNDALE AV,1020,ARSON,BY FIRE,VEHICLE NON-COMMERCIAL,true,false,0833,008,,,09,1153252,1852277,2001,08/17/2015 03:03:40 PM,41.750487775,-87.71398939,(41.750487775, -87.71398939)\\n', '3139951,HK133327,01/19/2004 01:40:09 AM,086XX S DR MARTIN LUTHER KING JR DR,1090,ARSON,ATTEMPT ARSON,RESIDENCE PORCH/HALLWAY,false,true,0632,006,6,44,09,1180423,1847824,2004,02/28/2018 03:56:25 PM,41.73768838,-87.614558784,(41.73768838, -87.614558784)\\n', '5595049,HN397916,06/08/2007 12:40:00 PM,055XX W GRAND AVE,0460,BATTERY,SIMPLE,STREET,false,false,2515,025,37,19,08B,1138786,1913480,2007,02/28/2018 03:56:25 PM,41.918711687,-87.765517979,(41.918711687, -87.765517979)\\n', '6988567,HR393619,06/24/2009 10:20:00 PM,025XX W DIVISION ST,0460,BATTERY,SIMPLE,ALLEY,false,false,1312,012,26,24,08B,1159062,1907889,2009,02/10/2018 03:50:01 PM,41.90297699,-87.691175432,(41.90297699, -87.691175432)\\n', '1792709,G616412,10/13/2001 08:15:00 PM,007XX N LEAMINGTON AV,0460,BATTERY,SIMPLE,RESIDENCE,false,true,1531,015,,,08B,1141844,1904599,2001,08/17/2015 03:03:40 PM,41.894285111,-87.754502627,(41.894285111, -87.754502627)\\n', '8477311,HV152955,02/10/2012 03:00:00 PM,075XX S HARVARD AVE,0560,ASSAULT,SIMPLE,\"SCHOOL, PUBLIC, BUILDING\",false,true,0623,006,17,69,08A,1175371,1855056,2012,02/10/2018 03:50:01 PM,41.757648178,-87.632852174,(41.757648178, -87.632852174)\\n', '8482560,HV159094,02/15/2012 01:40:00 PM,087XX S STONY ISLAND AVE,0820,THEFT,$500 AND UNDER,PARKING LOT/GARAGE(NON.RESID.),false,false,0412,004,8,48,06,1188437,1847446,2012,02/10/2018 03:50:01 PM,41.73646369,-87.585210026,(41.73646369, -87.585210026)\\n']\n"
     ]
    }
   ],
   "source": [
    "fid = open(datadir + fname)\n",
    "lines = [fid.readline() for i in range(10)]\n",
    "fid.close()\n",
    "print(lines)"
   ]
  },
  {
   "cell_type": "markdown",
   "metadata": {},
   "source": [
    "# Test the Separator "
   ]
  },
  {
   "cell_type": "code",
   "execution_count": 19,
   "metadata": {},
   "outputs": [
    {
     "name": "stdout",
     "output_type": "stream",
     "text": [
      "Counter({23: 8, 25: 1, 22: 1})\n"
     ]
    }
   ],
   "source": [
    "sep = ','\n",
    "no_fields = [len(x.split(',')) for x in lines]\n",
    "cnts = collections.Counter(no_fields)\n",
    "print(cnts)"
   ]
  },
  {
   "cell_type": "markdown",
   "metadata": {},
   "source": [
    "It seems that the header has less columns than the rest of the file. Inspencting it from above cells, we can see that there is a column whose values have the separator not escaped by double quotes. \n",
    "\n",
    "As the information from that column (*location*) is redundant with the *Longitude* and *Latitude* columns, we can simply discard them."
   ]
  },
  {
   "cell_type": "markdown",
   "metadata": {},
   "source": [
    "# Discarding Redundant Info "
   ]
  },
  {
   "cell_type": "code",
   "execution_count": 20,
   "metadata": {},
   "outputs": [],
   "source": [
    "## Load File\n",
    "fid = open(datadir + fname)\n",
    "lines = fid.readlines() # File is small enough to handle in memory\n",
    "header = [lines[0]]\n",
    "lines = lines[1:]\n",
    "fid.close()\n",
    "\n",
    "## Fix Header\n",
    "header = [','.join(header[0].split(',')[:-1])]\n",
    "ncols = len(header[0].split(','))\n",
    "## Fix Lines\n",
    "lines = [','.join(x.split(',')[:-2]) for x in lines]\n",
    "lines = [x if len(x.split(',')) == ncols else x + ','*(ncols-len(x.split(',')))\n",
    "         for x in lines]\n",
    "header.extend(lines)\n",
    "\n",
    "## Save file\n",
    "fid = open(savedir+fname, \"w\")\n",
    "fid.write('\\n'.join(header))\n",
    "fid.close()"
   ]
  },
  {
   "cell_type": "markdown",
   "metadata": {},
   "source": [
    "# Check With Pandas "
   ]
  },
  {
   "cell_type": "code",
   "execution_count": 21,
   "metadata": {},
   "outputs": [],
   "source": [
    "try:\n",
    "    df = pandas.read_csv(savedir+fname, sep=',')\n",
    "except Exception as err:\n",
    "    print(err)\n"
   ]
  }
 ],
 "metadata": {
  "kernelspec": {
   "display_name": "Python 3",
   "language": "python",
   "name": "python3"
  },
  "language_info": {
   "codemirror_mode": {
    "name": "ipython",
    "version": 3
   },
   "file_extension": ".py",
   "mimetype": "text/x-python",
   "name": "python",
   "nbconvert_exporter": "python",
   "pygments_lexer": "ipython3",
   "version": "3.5.2"
  }
 },
 "nbformat": 4,
 "nbformat_minor": 2
}
