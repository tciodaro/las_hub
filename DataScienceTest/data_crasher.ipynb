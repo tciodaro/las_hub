{
 "cells": [
  {
   "cell_type": "code",
   "execution_count": 12,
   "metadata": {},
   "outputs": [],
   "source": [
    "import numpy as np\n",
    "import re\n",
    "\n",
    "fname   = 'Crimes_-_2001_to_present.csv'\n",
    "\n",
    "nsamples = 10000\n",
    "datadir = './OriginalData/'\n",
    "savedir = './RawData/'"
   ]
  },
  {
   "cell_type": "code",
   "execution_count": 13,
   "metadata": {},
   "outputs": [],
   "source": [
    "import os, random\n",
    "def get_random_lines(fname, nsamples):\n",
    "    total_bytes = os.stat(fname).st_size \n",
    "    lines = []\n",
    "    file = open(fname)\n",
    "    header = [file.readline()]\n",
    "    for i in range(nsamples):\n",
    "        random_point = random.randint(0, total_bytes)\n",
    "        if random_point == 0: continue\n",
    "        file.seek(random_point)\n",
    "        file.readline() # skip this line to clear the partial line\n",
    "        lines.append(file.readline())\n",
    "    file.close()\n",
    "    header.extend(lines)\n",
    "    return header"
   ]
  },
  {
   "cell_type": "code",
   "execution_count": 14,
   "metadata": {},
   "outputs": [],
   "source": [
    "## READ DATA\n",
    "lines = get_random_lines(datadir+fname, nsamples)"
   ]
  },
  {
   "cell_type": "code",
   "execution_count": 15,
   "metadata": {},
   "outputs": [],
   "source": [
    "## CRASH THE COLUMN QUOTING\n",
    "lines = [re.sub(r'\\\"\\(', r'(',row) for row in lines]\n",
    "lines = [re.sub(r'\\)\\\"\\n', r')\\n', row) for row in lines]"
   ]
  },
  {
   "cell_type": "code",
   "execution_count": 17,
   "metadata": {
    "scrolled": false
   },
   "outputs": [],
   "source": [
    "## SAVE DATA\n",
    "fid = open(savedir + fname, 'w')\n",
    "fid.write(''.join(lines))\n",
    "fid.close()"
   ]
  }
 ],
 "metadata": {
  "kernelspec": {
   "display_name": "Python 3",
   "language": "python",
   "name": "python3"
  },
  "language_info": {
   "codemirror_mode": {
    "name": "ipython",
    "version": 3
   },
   "file_extension": ".py",
   "mimetype": "text/x-python",
   "name": "python",
   "nbconvert_exporter": "python",
   "pygments_lexer": "ipython3",
   "version": "3.5.2"
  }
 },
 "nbformat": 4,
 "nbformat_minor": 2
}
